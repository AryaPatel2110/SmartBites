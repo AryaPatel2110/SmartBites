{
 "cells": [
  {
   "cell_type": "code",
   "execution_count": 1,
   "id": "2d135f3a",
   "metadata": {},
   "outputs": [],
   "source": [
    "# 🔹 Imports\n",
    "from pyspark.sql import SparkSession\n",
    "from pyspark.sql.functions import col, lower, lit\n",
    "from pyspark.ml.recommendation import ALS\n",
    "from pyspark.ml.feature import StringIndexer\n",
    "from pyspark.ml.evaluation import RegressionEvaluator\n",
    "import utils.config as config"
   ]
  },
  {
   "cell_type": "code",
   "execution_count": 2,
   "id": "ba7e53f7",
   "metadata": {},
   "outputs": [],
   "source": [
    "# 🔹 Create Spark session\n",
    "spark = SparkSession.builder \\\n",
    "    .appName(\"CollaborativeFilteringSearch\") \\\n",
    "    .getOrCreate()"
   ]
  },
  {
   "cell_type": "code",
   "execution_count": 3,
   "id": "356c6153",
   "metadata": {},
   "outputs": [],
   "source": [
    "# 🔹 Load review data\n",
    "df = spark.read.json(config.PHILADELPHIA)\n",
    "df = df.select(\"user_id\", \"name\", \"business_stars\").dropna()\n",
    "df = df.filter(df.business_stars > 0)"
   ]
  },
  {
   "cell_type": "code",
   "execution_count": 4,
   "id": "a70f60b5",
   "metadata": {},
   "outputs": [],
   "source": [
    "\n",
    "# 🔹 Index users and restaurants\n",
    "user_indexer = StringIndexer(inputCol=\"user_id\", outputCol=\"userIndex\")\n",
    "item_indexer = StringIndexer(inputCol=\"name\", outputCol=\"itemIndex\")\n",
    "df = user_indexer.fit(df).transform(df)\n",
    "df = item_indexer.fit(df).transform(df)"
   ]
  },
  {
   "cell_type": "code",
   "execution_count": 16,
   "id": "e2a6dfe1-870d-4b69-98a1-48fedfb2a7f5",
   "metadata": {},
   "outputs": [
    {
     "name": "stdout",
     "output_type": "stream",
     "text": [
      "+--------------------+--------------------+--------------+---------+---------+\n",
      "|             user_id|                name|business_stars|userIndex|itemIndex|\n",
      "+--------------------+--------------------+--------------+---------+---------+\n",
      "|sqkiFAnk4gmL1LYmZ...|Waterfront Gourme...|           4.0| 195551.0|   1824.0|\n",
      "|7RuSAc-Mslk4aizXX...|Waterfront Gourme...|           4.0|    425.0|   1824.0|\n",
      "|xa0aM4h8FZYGHAFZ0...|Waterfront Gourme...|           4.0|  14729.0|   1824.0|\n",
      "|QAVwfV8qy6meUjIZp...|Waterfront Gourme...|           4.0|   9279.0|   1824.0|\n",
      "|nmmaBI8t0JN4Hkxay...|Waterfront Gourme...|           4.0|   1889.0|   1824.0|\n",
      "|d_QKFVZuYDm0wzhkq...|Waterfront Gourme...|           4.0|  72361.0|   1824.0|\n",
      "|0KCOEsM1WGKYUg6ey...|Waterfront Gourme...|           4.0|   2495.0|   1824.0|\n",
      "|b47MFJu3LYjv6xmCR...|Waterfront Gourme...|           4.0|    831.0|   1824.0|\n",
      "|ePmanjMTkYwpO65_9...|Waterfront Gourme...|           4.0|   4786.0|   1824.0|\n",
      "|9b74lTGD6blywdUYt...|Waterfront Gourme...|           4.0|  56207.0|   1824.0|\n",
      "|PpOdNxfZxm3jBYl8_...|Waterfront Gourme...|           4.0| 136912.0|   1824.0|\n",
      "|nmmaBI8t0JN4Hkxay...|Waterfront Gourme...|           4.0|   1889.0|   1824.0|\n",
      "|7RuSAc-Mslk4aizXX...|Waterfront Gourme...|           4.0|    425.0|   1824.0|\n",
      "|MvZzbMBwk0yujsz-1...|Waterfront Gourme...|           4.0|  63019.0|   1824.0|\n",
      "|6wI21cy-CLZcfs6QB...|Waterfront Gourme...|           4.0|  99693.0|   1824.0|\n",
      "|80oQJoVqdiqZfZeKo...|Waterfront Gourme...|           4.0| 101769.0|   1824.0|\n",
      "|zT5GBadM0lnBdt2It...|Waterfront Gourme...|           4.0|   2608.0|   1824.0|\n",
      "|6oNOWppmBQRseF_rz...|Waterfront Gourme...|           4.0|  22020.0|   1824.0|\n",
      "|vOtI7ODhM8KaMsHWX...|Waterfront Gourme...|           4.0| 200567.0|   1824.0|\n",
      "|KrjiFj5Q5YADmGL3W...|Waterfront Gourme...|           4.0|  15776.0|   1824.0|\n",
      "+--------------------+--------------------+--------------+---------+---------+\n",
      "only showing top 20 rows\n",
      "\n"
     ]
    }
   ],
   "source": [
    "df.show()"
   ]
  },
  {
   "cell_type": "code",
   "execution_count": 5,
   "id": "8045b141",
   "metadata": {},
   "outputs": [
    {
     "name": "stdout",
     "output_type": "stream",
     "text": [
      "CPU times: total: 15.6 ms\n",
      "Wall time: 40.7 s\n"
     ]
    }
   ],
   "source": [
    "%%time\n",
    "\n",
    "# 🔹 Train ALS model\n",
    "als = ALS(\n",
    "    maxIter=10,\n",
    "    regParam=0.1,\n",
    "    userCol=\"userIndex\",\n",
    "    itemCol=\"itemIndex\",\n",
    "    ratingCol=\"business_stars\",\n",
    "    coldStartStrategy=\"drop\",\n",
    "    nonnegative=True\n",
    ")\n",
    "model = als.fit(df)"
   ]
  },
  {
   "cell_type": "code",
   "execution_count": 17,
   "id": "6eb4851a",
   "metadata": {},
   "outputs": [
    {
     "name": "stdout",
     "output_type": "stream",
     "text": [
      "CPU times: total: 0 ns\n",
      "Wall time: 0 ns\n"
     ]
    }
   ],
   "source": [
    "%%time\n",
    "\n",
    "# 🔹 Function to search and get similar restaurants\n",
    "def recommend_similar_restaurants_by_name(query, top_n=5):\n",
    "    matched_items = df.filter(lower(col(\"name\")).contains(query.lower())) \\\n",
    "                      .select(\"name\", \"itemIndex\").distinct().limit(1).collect()\n",
    "\n",
    "    if not matched_items:\n",
    "        print(f\"No match found for: {query}\")\n",
    "        return\n",
    "\n",
    "    item_idx = matched_items[0][\"itemIndex\"]\n",
    "    matched_name = matched_items[0][\"name\"]\n",
    "    print(f\"🔍 Matched: {matched_name} (itemIndex={item_idx})\")\n",
    "\n",
    "    # Simulate recommendations for a dummy user\n",
    "    dummy_user_index = 14729.0\n",
    "    all_items = df.select(\"itemIndex\").distinct().withColumn(\"userIndex\", lit(dummy_user_index))\n",
    "    predictions = model.transform(all_items)\n",
    "\n",
    "    similar_items = predictions.orderBy(col(\"prediction\").desc()) \\\n",
    "        .join(df.select(\"itemIndex\", \"name\").distinct(), on=\"itemIndex\") \\\n",
    "        .filter(col(\"itemIndex\") != item_idx) \\\n",
    "        .dropDuplicates([\"itemIndex\"]) \\\n",
    "        .select(\"name\", \"prediction\") \\\n",
    "        .limit(top_n)\n",
    "\n",
    "    similar_items.show(truncate=False)"
   ]
  },
  {
   "cell_type": "code",
   "execution_count": 18,
   "id": "846bb68e",
   "metadata": {},
   "outputs": [
    {
     "name": "stdout",
     "output_type": "stream",
     "text": [
      "🔍 Matched: Real Food Eatery (itemIndex=461.0)\n",
      "+-----------------------+----------+\n",
      "|name                   |prediction|\n",
      "+-----------------------+----------+\n",
      "|Reading Terminal Market|4.258159  |\n",
      "|Pat's King of Steaks   |2.8640873 |\n",
      "|Sabrina's Café         |3.800693  |\n",
      "|Green Eggs Café        |3.6720803 |\n",
      "|Geno's Steaks          |2.384353  |\n",
      "+-----------------------+----------+\n",
      "\n",
      "CPU times: total: 0 ns\n",
      "Wall time: 6.65 s\n"
     ]
    }
   ],
   "source": [
    "%%time\n",
    "# 🔹 Example usage: Just like content-based\n",
    "recommend_similar_restaurants_by_name(\"Real Food Eatery\", top_n=5)"
   ]
  },
  {
   "cell_type": "code",
   "execution_count": null,
   "id": "b0123c90",
   "metadata": {},
   "outputs": [],
   "source": []
  },
  {
   "cell_type": "code",
   "execution_count": null,
   "id": "6de3f442-f8cd-4058-8e82-033aac9ed702",
   "metadata": {},
   "outputs": [],
   "source": []
  }
 ],
 "metadata": {
  "kernelspec": {
   "display_name": "Python 3 (ipykernel)",
   "language": "python",
   "name": "python3"
  },
  "language_info": {
   "codemirror_mode": {
    "name": "ipython",
    "version": 3
   },
   "file_extension": ".py",
   "mimetype": "text/x-python",
   "name": "python",
   "nbconvert_exporter": "python",
   "pygments_lexer": "ipython3",
   "version": "3.10.0"
  }
 },
 "nbformat": 4,
 "nbformat_minor": 5
}

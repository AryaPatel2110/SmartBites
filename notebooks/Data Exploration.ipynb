{
 "cells": [
  {
   "cell_type": "code",
   "execution_count": 1,
   "id": "526d820d-54d2-4327-a15a-6e07adcfe702",
   "metadata": {},
   "outputs": [],
   "source": [
    "from pyspark.sql import SparkSession\n",
    "import utils.config as config\n",
    "\n",
    "\n",
    "# Step 1: Create Spark session\n",
    "spark = SparkSession.builder \\\n",
    "    .appName(\"BusinessSimilarityModel\") \\\n",
    "    .getOrCreate()"
   ]
  },
  {
   "cell_type": "code",
   "execution_count": 2,
   "id": "a4ed7887-943c-4d01-8331-ab58041eb7eb",
   "metadata": {},
   "outputs": [],
   "source": [
    "# Step 2: Load review data\n",
    "# Assuming review_df is loaded with columns including 'name' and 'text'\n",
    "df = spark.read.json(config.PHILADELPHIA)\n",
    "user = spark.read.json(config.USER)"
   ]
  },
  {
   "cell_type": "code",
   "execution_count": 3,
   "id": "21611688-ad54-4992-b7f9-ecc6643065b4",
   "metadata": {},
   "outputs": [
    {
     "name": "stdout",
     "output_type": "stream",
     "text": [
      "root\n",
      " |-- business_id: string (nullable = true)\n",
      " |-- business_stars: double (nullable = true)\n",
      " |-- categories: string (nullable = true)\n",
      " |-- city: string (nullable = true)\n",
      " |-- cool: long (nullable = true)\n",
      " |-- date: string (nullable = true)\n",
      " |-- funny: long (nullable = true)\n",
      " |-- name: string (nullable = true)\n",
      " |-- review_count: long (nullable = true)\n",
      " |-- review_id: string (nullable = true)\n",
      " |-- review_stars: double (nullable = true)\n",
      " |-- state: string (nullable = true)\n",
      " |-- text: string (nullable = true)\n",
      " |-- useful: long (nullable = true)\n",
      " |-- user_id: string (nullable = true)\n",
      "\n"
     ]
    }
   ],
   "source": [
    "df.printSchema()"
   ]
  },
  {
   "cell_type": "code",
   "execution_count": 4,
   "id": "79cf14d9-594a-4274-a4ad-e0f569ed19cf",
   "metadata": {},
   "outputs": [
    {
     "name": "stdout",
     "output_type": "stream",
     "text": [
      "root\n",
      " |-- average_stars: double (nullable = true)\n",
      " |-- compliment_cool: long (nullable = true)\n",
      " |-- compliment_cute: long (nullable = true)\n",
      " |-- compliment_funny: long (nullable = true)\n",
      " |-- compliment_hot: long (nullable = true)\n",
      " |-- compliment_list: long (nullable = true)\n",
      " |-- compliment_more: long (nullable = true)\n",
      " |-- compliment_note: long (nullable = true)\n",
      " |-- compliment_photos: long (nullable = true)\n",
      " |-- compliment_plain: long (nullable = true)\n",
      " |-- compliment_profile: long (nullable = true)\n",
      " |-- compliment_writer: long (nullable = true)\n",
      " |-- cool: long (nullable = true)\n",
      " |-- elite: string (nullable = true)\n",
      " |-- fans: long (nullable = true)\n",
      " |-- friends: string (nullable = true)\n",
      " |-- funny: long (nullable = true)\n",
      " |-- name: string (nullable = true)\n",
      " |-- review_count: long (nullable = true)\n",
      " |-- useful: long (nullable = true)\n",
      " |-- user_id: string (nullable = true)\n",
      " |-- yelping_since: string (nullable = true)\n",
      "\n"
     ]
    }
   ],
   "source": [
    "user.printSchema()"
   ]
  },
  {
   "cell_type": "code",
   "execution_count": 5,
   "id": "1744974f-bf8c-4bfc-9509-c4b212d6a8b1",
   "metadata": {},
   "outputs": [
    {
     "name": "stdout",
     "output_type": "stream",
     "text": [
      "+--------------------+--------------+--------------------+------------+----+-------------------+-----+--------------------+------------+--------------------+------------+-----+--------------------+------+--------------------+\n",
      "|         business_id|business_stars|          categories|        city|cool|               date|funny|                name|review_count|           review_id|review_stars|state|                text|useful|             user_id|\n",
      "+--------------------+--------------+--------------------+------------+----+-------------------+-----+--------------------+------------+--------------------+------------+-----+--------------------+------+--------------------+\n",
      "|-0eUa8TsXFFy0FCxH...|           4.0|Caterers, Sandwic...|Philadelphia|   0|2017-02-09 19:28:57|    0|Waterfront Gourme...|          26|diZL4qZJqLM034BJD...|         4.0|   PA|Sandwiches had go...|     0|sqkiFAnk4gmL1LYmZ...|\n",
      "|-0eUa8TsXFFy0FCxH...|           4.0|Caterers, Sandwic...|Philadelphia|   0|2016-07-26 03:08:22|    0|Waterfront Gourme...|          26|fCPMAPL8AgJODhKZf...|         4.0|   PA|Didn't even know ...|     1|7RuSAc-Mslk4aizXX...|\n",
      "|-0eUa8TsXFFy0FCxH...|           4.0|Caterers, Sandwic...|Philadelphia|   0|2016-05-21 17:34:29|    0|Waterfront Gourme...|          26|Ltl_vRHW11W3Q52Pc...|         4.0|   PA|The café is clean...|     0|xa0aM4h8FZYGHAFZ0...|\n",
      "|-0eUa8TsXFFy0FCxH...|           4.0|Caterers, Sandwic...|Philadelphia|   0|2017-02-11 03:38:05|    0|Waterfront Gourme...|          26|xwFd8bHd7RbSK9DDZ...|         5.0|   PA|This was a really...|     1|QAVwfV8qy6meUjIZp...|\n",
      "|-0eUa8TsXFFy0FCxH...|           4.0|Caterers, Sandwic...|Philadelphia|   0|2017-10-14 12:15:21|    0|Waterfront Gourme...|          26|gcy8yTWv1Y63hnDI1...|         5.0|   PA|Great place for a...|     0|nmmaBI8t0JN4Hkxay...|\n",
      "+--------------------+--------------+--------------------+------------+----+-------------------+-----+--------------------+------------+--------------------+------------+-----+--------------------+------+--------------------+\n",
      "only showing top 5 rows\n",
      "\n"
     ]
    }
   ],
   "source": [
    "df.show(5)"
   ]
  },
  {
   "cell_type": "code",
   "execution_count": 6,
   "id": "1c34f6a1-72ee-4097-925d-c1d07ce18bde",
   "metadata": {},
   "outputs": [
    {
     "name": "stdout",
     "output_type": "stream",
     "text": [
      "+-------+--------------------+------------------+--------------------+------------+------------------+-------------------+------------------+--------------------+-----------------+--------------------+------------------+------+----------------------+------------------+--------------------+\n",
      "|summary|         business_id|    business_stars|          categories|        city|              cool|               date|             funny|                name|     review_count|           review_id|      review_stars| state|                  text|            useful|             user_id|\n",
      "+-------+--------------------+------------------+--------------------+------------+------------------+-------------------+------------------+--------------------+-----------------+--------------------+------------------+------+----------------------+------------------+--------------------+\n",
      "|  count|              687307|            687307|              687307|      687307|            687307|             687307|            687307|              687307|           687307|              687307|            687307|687307|                687307|            687307|              687307|\n",
      "|   mean|                NULL|  3.80393768723438|                NULL|        NULL|0.5505589205406026|               NULL|0.3708531995163733|   559.7400881057268|622.8994117621384|                NULL| 3.811696956381937|  NULL|                  NULL| 1.101798759506305|                NULL|\n",
      "| stddev|                NULL|0.5752853242631806|                NULL|        NULL|1.8504580844731078|               NULL|1.4305407692947685|   574.6348192632661|865.5247815490602|                NULL|1.3069563930578718|  NULL|                  NULL|2.5315727817606306|                NULL|\n",
      "|    min|-0M0b-XhtFagyLmsB...|               1.0|Active Life, Beer...|Philadelphia|                 0|2005-02-16 04:06:26|                 0|$5 Fresh Burger Stop|                5|---aZVSWnQtOP_12Q...|               1.0|    PA|  ! Came by with fr...|                 0|---r61b7EpVPkb4UV...|\n",
      "|    max|zzyx5x0Z7xXWWvWnZ...|               5.0|Wraps, Sandwiches...|Philadelphia|               163|2022-01-19 19:46:34|               227|             ¡Juice!|             5721|zzzsujjXnH7MNLW2X...|               5.0|    PA|＼(^o^)／\\nThey hav...|               224|zzzMBVS73g3ZJ7qL8...|\n",
      "+-------+--------------------+------------------+--------------------+------------+------------------+-------------------+------------------+--------------------+-----------------+--------------------+------------------+------+----------------------+------------------+--------------------+\n",
      "\n"
     ]
    }
   ],
   "source": [
    "df.describe().show()"
   ]
  },
  {
   "cell_type": "code",
   "execution_count": 7,
   "id": "fc088fd5-509b-427b-9b3b-35ec53ea4c32",
   "metadata": {},
   "outputs": [
    {
     "name": "stdout",
     "output_type": "stream",
     "text": [
      "+-----------+--------------+----------+----+----+----+-----+----+------------+---------+------------+-----+----+------+-------+\n",
      "|business_id|business_stars|categories|city|cool|date|funny|name|review_count|review_id|review_stars|state|text|useful|user_id|\n",
      "+-----------+--------------+----------+----+----+----+-----+----+------------+---------+------------+-----+----+------+-------+\n",
      "|          0|             0|         0|   0|   0|   0|    0|   0|           0|        0|           0|    0|   0|     0|      0|\n",
      "+-----------+--------------+----------+----+----+----+-----+----+------------+---------+------------+-----+----+------+-------+\n",
      "\n"
     ]
    }
   ],
   "source": [
    "from pyspark.sql.functions import col, sum\n",
    "\n",
    "df.select([sum(col(c).isNull().cast(\"int\")).alias(c) for c in df.columns]).show()"
   ]
  },
  {
   "cell_type": "code",
   "execution_count": 8,
   "id": "3ad027da-2f44-4097-8a76-7c202fa4f833",
   "metadata": {},
   "outputs": [
    {
     "name": "stdout",
     "output_type": "stream",
     "text": [
      "+------------+------+\n",
      "|review_stars| count|\n",
      "+------------+------+\n",
      "|         1.0| 66626|\n",
      "|         2.0| 57480|\n",
      "|         3.0| 91706|\n",
      "|         4.0|194373|\n",
      "|         5.0|277122|\n",
      "+------------+------+\n",
      "\n"
     ]
    }
   ],
   "source": [
    "df.groupBy(\"review_stars\").count().orderBy(\"review_stars\").show()"
   ]
  },
  {
   "cell_type": "code",
   "execution_count": 9,
   "id": "fc75e437-d735-4bfb-ad83-138fd9119733",
   "metadata": {},
   "outputs": [
    {
     "name": "stdout",
     "output_type": "stream",
     "text": [
      "+--------------------+------+\n",
      "|            category| count|\n",
      "+--------------------+------+\n",
      "|         Restaurants|687289|\n",
      "|                Food|220033|\n",
      "|           Nightlife|211502|\n",
      "|                Bars|204367|\n",
      "|      American (New)|153715|\n",
      "|  Breakfast & Brunch|129387|\n",
      "|American (Traditi...|114673|\n",
      "|          Sandwiches|112915|\n",
      "|             Italian| 82982|\n",
      "|               Pizza| 68523|\n",
      "|        Coffee & Tea| 67688|\n",
      "|             Chinese| 56947|\n",
      "|             Seafood| 53422|\n",
      "|      Specialty Food| 44620|\n",
      "|       Cocktail Bars| 42346|\n",
      "|             Mexican| 42210|\n",
      "|             Burgers| 41746|\n",
      "|               Cafes| 41381|\n",
      "|        Asian Fusion| 39592|\n",
      "|                Beer| 39244|\n",
      "+--------------------+------+\n",
      "only showing top 20 rows\n",
      "\n"
     ]
    }
   ],
   "source": [
    "from pyspark.sql.functions import explode, split\n",
    "\n",
    "df.select(explode(split(\"categories\", \", \")).alias(\"category\")) \\\n",
    "  .groupBy(\"category\").count().orderBy(\"count\", ascending=False).show(20)\n"
   ]
  },
  {
   "cell_type": "code",
   "execution_count": 10,
   "id": "77830f6b-36ff-43f5-9aa4-46b337dd4fa7",
   "metadata": {},
   "outputs": [
    {
     "name": "stdout",
     "output_type": "stream",
     "text": [
      "+----+-----+\n",
      "|year|count|\n",
      "+----+-----+\n",
      "|2005|  101|\n",
      "|2006|  773|\n",
      "|2007| 4115|\n",
      "|2008|10912|\n",
      "|2009|18844|\n",
      "|2010|29391|\n",
      "|2011|39371|\n",
      "|2012|44252|\n",
      "|2013|51597|\n",
      "|2014|60250|\n",
      "|2015|68208|\n",
      "|2016|68748|\n",
      "|2017|71947|\n",
      "|2018|73190|\n",
      "|2019|72182|\n",
      "|2020|34860|\n",
      "|2021|36717|\n",
      "|2022| 1849|\n",
      "+----+-----+\n",
      "\n"
     ]
    }
   ],
   "source": [
    "from pyspark.sql.functions import year, month\n",
    "\n",
    "df.select(year(\"date\").alias(\"year\")).groupBy(\"year\").count().orderBy(\"year\").show()\n"
   ]
  },
  {
   "cell_type": "code",
   "execution_count": 11,
   "id": "877d4ff5-3077-4526-a504-ed377d53926d",
   "metadata": {},
   "outputs": [
    {
     "name": "stdout",
     "output_type": "stream",
     "text": [
      "+--------------------+-----+\n",
      "|             user_id|count|\n",
      "+--------------------+-----+\n",
      "|ET8n-r7glWYqZhuR6...|  929|\n",
      "|_BcWyKQL16ndpBdgg...|  787|\n",
      "|bJ5FtCtZX3ZZacz2_...|  663|\n",
      "|vFd8aBLg1kFcd0kCk...|  529|\n",
      "|8EMU7d4pCkdqUnvlI...|  469|\n",
      "|0DB3Irpf_ETVXu_Ou...|  453|\n",
      "|ouODopBKF3AqfCkuQ...|  414|\n",
      "|LnFIWZM_l__4t8Qxj...|  403|\n",
      "|NNgQ8fV5ARQgHw-Ob...|  390|\n",
      "|HxyLRaoH9PS09M6R3...|  386|\n",
      "+--------------------+-----+\n",
      "only showing top 10 rows\n",
      "\n"
     ]
    }
   ],
   "source": [
    "df.groupBy(\"user_id\").count().orderBy(\"count\", ascending=False).show(10)"
   ]
  }
 ],
 "metadata": {
  "kernelspec": {
   "display_name": "Python 3 (ipykernel)",
   "language": "python",
   "name": "python3"
  },
  "language_info": {
   "codemirror_mode": {
    "name": "ipython",
    "version": 3
   },
   "file_extension": ".py",
   "mimetype": "text/x-python",
   "name": "python",
   "nbconvert_exporter": "python",
   "pygments_lexer": "ipython3",
   "version": "3.12.4"
  }
 },
 "nbformat": 4,
 "nbformat_minor": 5
}

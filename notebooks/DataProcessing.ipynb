{
 "cells": [
  {
   "cell_type": "code",
   "execution_count": 1,
   "id": "35c17f82-182d-4686-acc7-420604947a40",
   "metadata": {},
   "outputs": [],
   "source": [
    "import os\n",
    "import utils.config as config\n",
    "from pathlib import Path\n",
    "from pyspark.sql import SparkSession\n",
    "from pyspark.sql.functions import col"
   ]
  },
  {
   "cell_type": "code",
   "execution_count": 2,
   "id": "ae1c81b6-a366-472e-ad5c-20dff1b8e0f3",
   "metadata": {},
   "outputs": [],
   "source": [
    "os.environ['SPARK_HOME'] = config.APP\n",
    "os.environ['PYSPARK_DRIVER_PYTHON'] = 'jupyter'\n",
    "os.environ['PYSPARK_DRIVER_PYTHON_OPTS'] = 'lab'\n",
    "os.environ['PYSPARK_PYTHON'] = 'python3'"
   ]
  },
  {
   "cell_type": "code",
   "execution_count": 3,
   "id": "10f6b23e-3d18-4a78-b471-36a6a57ec98b",
   "metadata": {},
   "outputs": [],
   "source": [
    "# Create a SparkSession\n",
    "spark = SparkSession.builder \\\n",
    "    .appName(\"YelpDataLoader\") \\\n",
    "    .getOrCreate()"
   ]
  },
  {
   "cell_type": "code",
   "execution_count": 4,
   "id": "34e0baca-454d-4ab5-bb93-9be9e80e4f12",
   "metadata": {},
   "outputs": [],
   "source": [
    "# Load business data\n",
    "business = spark.read.json(config.BUSINESS_DATA_PATH)\n",
    "\n",
    "# Load review data\n",
    "review = spark.read.json(config.REVIEW_DATA_PATH)"
   ]
  },
  {
   "cell_type": "code",
   "execution_count": 5,
   "id": "8200a5ce-ef65-4d5b-8c3e-e95bb893286a",
   "metadata": {},
   "outputs": [
    {
     "name": "stdout",
     "output_type": "stream",
     "text": [
      "['address', 'attributes', 'business_id', 'categories', 'city', 'hours', 'is_open', 'latitude', 'longitude', 'name', 'postal_code', 'review_count', 'stars', 'state']\n"
     ]
    }
   ],
   "source": [
    "# Return column names from the business DataFrame\n",
    "print(business.columns)"
   ]
  },
  {
   "cell_type": "code",
   "execution_count": 6,
   "id": "71eeb4db-22cb-4e93-935c-fa4c0e3afb13",
   "metadata": {},
   "outputs": [
    {
     "name": "stdout",
     "output_type": "stream",
     "text": [
      "['business_id', 'cool', 'date', 'funny', 'review_id', 'stars', 'text', 'useful', 'user_id']\n"
     ]
    }
   ],
   "source": [
    "# Return column names from the review DataFrame\n",
    "print(review.columns)"
   ]
  },
  {
   "cell_type": "code",
   "execution_count": 7,
   "id": "edcf303e-5fe1-4428-af64-e68acbc863de",
   "metadata": {},
   "outputs": [],
   "source": [
    "# Filter businesses where 'categories' contains 'Restaurant' AND city is 'Philadelphia'\n",
    "business_restaurants = business.filter(\n",
    "    col(\"categories\").contains(\"Restaurant\")\n",
    ").filter(\n",
    "    col(\"city\") == \"Philadelphia\"\n",
    ")"
   ]
  },
  {
   "cell_type": "code",
   "execution_count": 8,
   "id": "d0f7cc2d-ea1a-4c90-8131-741a3223e543",
   "metadata": {},
   "outputs": [],
   "source": [
    "# Optional: Select only required columns to optimize memory\n",
    "business_selected = business_restaurants.select(\n",
    "    \"business_id\", \"name\", \"city\", \"state\", \"categories\", \"stars\", \"review_count\"\n",
    ").withColumnRenamed(\"stars\", \"business_stars\")  # Rename conflicting column\n",
    "\n",
    "review_selected = review.select(\n",
    "    \"business_id\", \"review_id\", \"user_id\", \"stars\", \"text\", \"date\", \"useful\", \"funny\", \"cool\"\n",
    ").withColumnRenamed(\"stars\", \"review_stars\")  # Rename conflicting column\n",
    "\n",
    "# Perform left join on business_id\n",
    "yelp_restaurant = business_selected.join(review_selected, on=\"business_id\", how=\"left\")\n",
    "\n",
    "# Optional: Repartition to reduce output files (can tweak number)\n",
    "yelp_restaurant = yelp_restaurant.repartition(1)\n",
    "\n",
    "# Save to Json\n",
    "yelp_restaurant.write.mode(\"overwrite\").option(\"header\", True).json(config.PHILADELPHIA)"
   ]
  },
  {
   "cell_type": "code",
   "execution_count": 9,
   "id": "ad8fc4f9-0a38-448c-a7f5-dd5e7fe42d8a",
   "metadata": {},
   "outputs": [
    {
     "name": "stdout",
     "output_type": "stream",
     "text": [
      "['business_id', 'business_stars', 'categories', 'city', 'cool', 'date', 'funny', 'name', 'review_count', 'review_id', 'review_stars', 'state', 'text', 'useful', 'user_id']\n"
     ]
    }
   ],
   "source": [
    "review = spark.read.json(config.PHILADELPHIA)\n",
    "\n",
    "print(review.columns)"
   ]
  },
  {
   "cell_type": "code",
   "execution_count": 10,
   "id": "619c3710-62fd-475b-8c78-cab3714d193a",
   "metadata": {},
   "outputs": [
    {
     "name": "stdout",
     "output_type": "stream",
     "text": [
      "['average_stars', 'compliment_cool', 'compliment_cute', 'compliment_funny', 'compliment_hot', 'compliment_list', 'compliment_more', 'compliment_note', 'compliment_photos', 'compliment_plain', 'compliment_profile', 'compliment_writer', 'cool', 'elite', 'fans', 'friends', 'funny', 'name', 'review_count', 'useful', 'user_id', 'yelping_since']\n"
     ]
    }
   ],
   "source": [
    "user = spark.read.json(config.USER)\n",
    "\n",
    "print(user.columns)"
   ]
  },
  {
   "cell_type": "code",
   "execution_count": 11,
   "id": "8dc2bfe6-540a-4a1b-850f-e4713ba461b1",
   "metadata": {},
   "outputs": [],
   "source": [
    "spark.stop()"
   ]
  }
 ],
 "metadata": {
  "kernelspec": {
   "display_name": "Python 3 (ipykernel)",
   "language": "python",
   "name": "python3"
  },
  "language_info": {
   "codemirror_mode": {
    "name": "ipython",
    "version": 3
   },
   "file_extension": ".py",
   "mimetype": "text/x-python",
   "name": "python",
   "nbconvert_exporter": "python",
   "pygments_lexer": "ipython3",
   "version": "3.12.4"
  }
 },
 "nbformat": 4,
 "nbformat_minor": 5
}

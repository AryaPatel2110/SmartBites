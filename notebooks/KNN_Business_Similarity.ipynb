{
 "cells": [
  {
   "cell_type": "code",
   "execution_count": 1,
   "id": "9e24aaff",
   "metadata": {},
   "outputs": [],
   "source": [
    "from pyspark.sql import SparkSession\n",
    "from pyspark.sql.functions import col, collect_list, concat_ws\n",
    "from pyspark.ml.feature import Tokenizer, StopWordsRemover, HashingTF, IDF, BucketedRandomProjectionLSH\n",
    "from pyspark.ml import Pipeline\n",
    "import utils.config as config\n"
   ]
  },
  {
   "cell_type": "code",
   "execution_count": 2,
   "id": "6e580feb",
   "metadata": {},
   "outputs": [],
   "source": [
    "spark = SparkSession.builder.appName(\"KNNBusinessSimilarityModel\").getOrCreate()\n"
   ]
  },
  {
   "cell_type": "code",
   "execution_count": 3,
   "id": "f95a26b9",
   "metadata": {},
   "outputs": [
    {
     "name": "stdout",
     "output_type": "stream",
     "text": [
      "+------------------------------+----------------------------------------------------------------------------------------------------------------------------------------------------------------------------------------------------------------------------------------------------------------------------------------------------------------------------------------------------------------------------------------------------------------------------------------------------------------------------------------------------------------------------------------------------------------------------------------------------------------------------------------------------------------------------------------------------------------------------------------------------------------------------------------------------------------------------------------------------------------------------------------------------------------------------------------------------------------------------------------------------------------------------------------------------------------------------------------------------------------------------------------------------+\n",
      "|name                          |text                                                                                                                                                                                                                                                                                                                                                                                                                                                                                                                                                                                                                                                                                                                                                                                                                                                                                                                                                                                                                                                                                                                                                |\n",
      "+------------------------------+----------------------------------------------------------------------------------------------------------------------------------------------------------------------------------------------------------------------------------------------------------------------------------------------------------------------------------------------------------------------------------------------------------------------------------------------------------------------------------------------------------------------------------------------------------------------------------------------------------------------------------------------------------------------------------------------------------------------------------------------------------------------------------------------------------------------------------------------------------------------------------------------------------------------------------------------------------------------------------------------------------------------------------------------------------------------------------------------------------------------------------------------------+\n",
      "|Waterfront Gourmet Cafe & Deli|Sandwiches had good taste and were a good size. Only some of the sandwiches come with chips and a pickle for some reason. It could be a tad cleaner. It's a small (looks like mom and pop) place.                                                                                                                                                                                                                                                                                                                                                                                                                                                                                                                                                                                                                                                                                                                                                                                                                                                                                                                                                   |\n",
      "|Waterfront Gourmet Cafe & Deli|Didn't even know this place existed until I was trolling grubhub for a breakfast sammie on Sunday afternoon! Sure enough, in less than a half hour I had a delectable sandwich at my front door!\\nI tried the prosciutto, egg, cheese and avocado bagel- what a great combo! \\nBoyfriend had the tried and true sausage, egg and cheese- great execution. \\nI'll definitely be ordering from here again!                                                                                                                                                                                                                                                                                                                                                                                                                                                                                                                                                                                                                                                                                                                                            |\n",
      "|Waterfront Gourmet Cafe & Deli|The café is clean and modern, sandwiches are fun and creative, coffee is fresh, and staff are super friendly. The dessert section features boring american cookies and cakes with nothing to please a European palette. I still don't understand why 90% of desserts have to be chocolate-centered. Why diss those who want fruity or creamy filling?                                                                                                                                                                                                                                                                                                                                                                                                                                                                                                                                                                                                                                                                                                                                                                                               |\n",
      "|Waterfront Gourmet Cafe & Deli|This was a really cute cafe with a great assortment of beverages, baked goods, lunch food (soups, salads, sandwiches), and other goodies! I had a great avocado egg prosciutto panini; it was really generous and filling. Service was really friendly, and I would definitely love to try some other sandwiches or one of the boylan's bottled sodas that I noticed in the cooler! Definitely worth a stop especially if you're by DRL.                                                                                                                                                                                                                                                                                                                                                                                                                                                                                                                                                                                                                                                                                                            |\n",
      "|Waterfront Gourmet Cafe & Deli|Great place for a delicious, affordable lunch! I came here for the first time for lunch yesterday with some coworkers. I ordered the roast beef panini and had a choice of side salad or chips. I got the salad. This was a nice option since many places charge extra if you want a salad instead of chips or fries. The panini was very delicious. It had fresh-cut roast beef, spinach, Swiss cheese, red onion, and a roasted red pepper spread. The meal was filling and only $8. My coworkers got the California sandwich which had turkey, avocado, and other toppings. They said it was very good. My other coworker got the XOXO salad which was a special for the day. She said it was good; however, it came with turkey which was just three big slices of deli turkey on top. She said it was hard to eat, and she would have liked it to be chopped or sliced differently. The environment is typical of a deli, and the staff was friendly. They had a large selection of pastries and desserts displayed nicely in glass cases. I had to resist the temptation to order a dessert this time, but I'll definitely be back to try one.|\n",
      "+------------------------------+----------------------------------------------------------------------------------------------------------------------------------------------------------------------------------------------------------------------------------------------------------------------------------------------------------------------------------------------------------------------------------------------------------------------------------------------------------------------------------------------------------------------------------------------------------------------------------------------------------------------------------------------------------------------------------------------------------------------------------------------------------------------------------------------------------------------------------------------------------------------------------------------------------------------------------------------------------------------------------------------------------------------------------------------------------------------------------------------------------------------------------------------------+\n",
      "only showing top 5 rows\n",
      "\n",
      "CPU times: total: 15.6 ms\n",
      "Wall time: 17.5 s\n"
     ]
    }
   ],
   "source": [
    "%%time\n",
    "\n",
    "review_spark_df = spark.read.json(config.PHILADELPHIA)\n",
    "review_spark_df.select(\"name\", \"text\").show(5, truncate=False)\n"
   ]
  },
  {
   "cell_type": "code",
   "execution_count": 5,
   "id": "376d34a4",
   "metadata": {},
   "outputs": [
    {
     "name": "stdout",
     "output_type": "stream",
     "text": [
      "+--------------------+--------------------+\n",
      "|                name|         all_reviews|\n",
      "+--------------------+--------------------+\n",
      "|        1 Stop Pizza|Unexpectedly good...|\n",
      "|1225Raw Sushi and...|Great sushi place...|\n",
      "|                1601|Best turkey reube...|\n",
      "|   2nd Story Brewing|I thought that th...|\n",
      "|3 Brothers Pizza ...|The best pizza in...|\n",
      "+--------------------+--------------------+\n",
      "only showing top 5 rows\n",
      "\n",
      "CPU times: total: 15.6 ms\n",
      "Wall time: 8.16 s\n"
     ]
    }
   ],
   "source": [
    "%%time\n",
    "\n",
    "business_reviews = review_spark_df.groupBy(\"name\") \\\n",
    "    .agg(concat_ws(\" \", collect_list(\"text\")).alias(\"all_reviews\"))\n",
    "# business_reviews.show(5, truncate=False)\n",
    "# Show just 5 results, and truncate long strings\n",
    "business_reviews.show(5, truncate=False)"
   ]
  },
  {
   "cell_type": "code",
   "execution_count": 6,
   "id": "8b4660fe",
   "metadata": {},
   "outputs": [
    {
     "name": "stdout",
     "output_type": "stream",
     "text": [
      "CPU times: total: 109 ms\n",
      "Wall time: 1min 13s\n"
     ]
    }
   ],
   "source": [
    "%%time\n",
    "\n",
    "tokenizer = Tokenizer(inputCol=\"all_reviews\", outputCol=\"words\")\n",
    "remover = StopWordsRemover(inputCol=\"words\", outputCol=\"filtered\")\n",
    "hashingTF = HashingTF(inputCol=\"filtered\", outputCol=\"rawFeatures\", numFeatures=1000)\n",
    "idf = IDF(inputCol=\"rawFeatures\", outputCol=\"features\")\n",
    "\n",
    "pipeline = Pipeline(stages=[tokenizer, remover, hashingTF, idf])\n",
    "model = pipeline.fit(business_reviews)\n",
    "tfidf_result = model.transform(business_reviews)\n"
   ]
  },
  {
   "cell_type": "code",
   "execution_count": 10,
   "id": "69be4881-183e-4ab6-99a4-76c5ce1ca817",
   "metadata": {},
   "outputs": [
    {
     "data": {
      "text/plain": [
       "5074"
      ]
     },
     "execution_count": 10,
     "metadata": {},
     "output_type": "execute_result"
    }
   ],
   "source": [
    "tfidf_result.count()"
   ]
  },
  {
   "cell_type": "code",
   "execution_count": 7,
   "id": "6d7f6637",
   "metadata": {},
   "outputs": [
    {
     "name": "stdout",
     "output_type": "stream",
     "text": [
      "CPU times: total: 0 ns\n",
      "Wall time: 212 ms\n"
     ]
    }
   ],
   "source": [
    "%%time\n",
    "\n",
    "feature_df = tfidf_result.select(\"name\", \"features\")\n",
    "lsh = BucketedRandomProjectionLSH(\n",
    "    inputCol=\"features\",\n",
    "    outputCol=\"hashes\",\n",
    "    numHashTables=5,\n",
    "    bucketLength=2.0  # 🔧 Set a value that works with your vector scale\n",
    ")\n",
    "\n",
    "lsh_model = lsh.fit(feature_df)\n",
    "transformed = lsh_model.transform(feature_df)\n"
   ]
  },
  {
   "cell_type": "code",
   "execution_count": 12,
   "id": "9ebfd5a8-cf7f-4480-a9ec-3a71ed864fe2",
   "metadata": {},
   "outputs": [
    {
     "name": "stdout",
     "output_type": "stream",
     "text": [
      "+--------------------+--------------------+\n",
      "|                name|            features|\n",
      "+--------------------+--------------------+\n",
      "|        1 Stop Pizza|(1000,[1,5,7,9,11...|\n",
      "|1225Raw Sushi and...|(1000,[0,1,2,3,4,...|\n",
      "|                1601|(1000,[0,2,4,7,8,...|\n",
      "|   2nd Story Brewing|(1000,[0,1,2,3,4,...|\n",
      "|3 Brothers Pizza ...|(1000,[0,2,3,5,7,...|\n",
      "+--------------------+--------------------+\n",
      "only showing top 5 rows\n",
      "\n"
     ]
    }
   ],
   "source": [
    "feature_df.show(5)"
   ]
  },
  {
   "cell_type": "code",
   "execution_count": 11,
   "id": "5d6683dc",
   "metadata": {},
   "outputs": [
    {
     "name": "stdout",
     "output_type": "stream",
     "text": [
      "+--------------------------+------------------+\n",
      "|name                      |distCol           |\n",
      "+--------------------------+------------------+\n",
      "|Real Food Eatery          |0.0               |\n",
      "|Farmer's Keep             |136.09511236513654|\n",
      "|Agno Grill                |139.99290898560818|\n",
      "|Pure Fare                 |143.50845480511708|\n",
      "|Fuel                      |146.870395107372  |\n",
      "|Noble: An American Cookery|149.89536940184456|\n",
      "|Chloe                     |151.95053535697753|\n",
      "|Meritage                  |152.30786143905053|\n",
      "|Rice & Mix                |153.02981552271055|\n",
      "|Fitler Dining Room        |154.74703677275184|\n",
      "+--------------------------+------------------+\n",
      "\n",
      "CPU times: total: 62.5 ms\n",
      "Wall time: 1min 41s\n"
     ]
    }
   ],
   "source": [
    "%%time\n",
    "\n",
    "query_name = \"Real Food Eatery\"\n",
    "query_vec = feature_df.filter(col(\"name\") == query_name).collect()\n",
    "\n",
    "if query_vec:\n",
    "    neighbors = lsh_model.approxNearestNeighbors(transformed, query_vec[0]['features'], numNearestNeighbors=10)\n",
    "    neighbors.select(\"name\", \"distCol\").show(truncate=False)\n",
    "else:\n",
    "    print(f\"Business '{query_name}' not found.\")\n"
   ]
  },
  {
   "cell_type": "code",
   "execution_count": null,
   "id": "9ea4c456-f84f-46fd-926e-65db76eb6ddd",
   "metadata": {},
   "outputs": [],
   "source": []
  }
 ],
 "metadata": {
  "kernelspec": {
   "display_name": "Python 3 (ipykernel)",
   "language": "python",
   "name": "python3"
  },
  "language_info": {
   "codemirror_mode": {
    "name": "ipython",
    "version": 3
   },
   "file_extension": ".py",
   "mimetype": "text/x-python",
   "name": "python",
   "nbconvert_exporter": "python",
   "pygments_lexer": "ipython3",
   "version": "3.10.0"
  }
 },
 "nbformat": 4,
 "nbformat_minor": 5
}

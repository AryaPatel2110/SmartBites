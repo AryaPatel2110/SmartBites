{
 "cells": [
  {
   "cell_type": "markdown",
   "id": "5a681017",
   "metadata": {},
   "source": [
    "# Yelp Data EDA using PySpark"
   ]
  },
  {
   "cell_type": "code",
   "execution_count": 1,
   "id": "ab8c1ce7",
   "metadata": {},
   "outputs": [],
   "source": [
    "from pyspark.sql import SparkSession\n",
    "import utils.config as config\n",
    "from pyspark.sql.functions import count, avg, explode, split, desc, corr, to_date, year, col\n",
    "\n",
    "spark = SparkSession.builder.appName('BusinessSimilarityModel').getOrCreate()\n",
    "df = spark.read.json(config.PHILADELPHIA)\n",
    "user = spark.read.json(config.USER)"
   ]
  },
  {
   "cell_type": "markdown",
   "id": "6d4f5e32",
   "metadata": {},
   "source": [
    "### 1. How many distinct businesses are reviewed in Philadelphia?"
   ]
  },
  {
   "cell_type": "code",
   "execution_count": 2,
   "id": "2ea4b8dd",
   "metadata": {},
   "outputs": [
    {
     "data": {
      "text/plain": [
       "5854"
      ]
     },
     "execution_count": 2,
     "metadata": {},
     "output_type": "execute_result"
    }
   ],
   "source": [
    "df.select('business_id').distinct().count()"
   ]
  },
  {
   "cell_type": "markdown",
   "id": "811e2551",
   "metadata": {},
   "source": [
    "### 2. What are the top 10 most reviewed businesses?"
   ]
  },
  {
   "cell_type": "code",
   "execution_count": 3,
   "id": "70395089",
   "metadata": {},
   "outputs": [
    {
     "name": "stdout",
     "output_type": "stream",
     "text": [
      "+----------------------+-----------------------+-----------+\n",
      "|business_id           |name                   |num_reviews|\n",
      "+----------------------+-----------------------+-----------+\n",
      "|ytynqOUb3hjKeJfRj5Tshw|Reading Terminal Market|5778       |\n",
      "|PP3BBaVxZLcJU54uP_wL6Q|Pat's King of Steaks   |4293       |\n",
      "|IkY2ticzHEn4QFn8hQLSWg|Geno's Steaks          |3428       |\n",
      "|9PZxjhTIU7OgPIzuGi89Ew|El Vez                 |3264       |\n",
      "|ctHjyadbDQAtUFfkcAFEHw|Zahav                  |3173       |\n",
      "|6ajnOk0GcY9xbb5Ocaw8Gw|Barbuzzo               |2974       |\n",
      "|j-qtdD55OLfSqfsWuQTDJg|Parc                   |2884       |\n",
      "|AGlh4ZDv6jnoiYfz7At9mw|Dim Sum Garden         |2778       |\n",
      "|sTPueJEwcRDj7ZJmG7okYA|Jim's South St         |2769       |\n",
      "|0RuvlgTnKFbX3IK0ZOOocA|Green Eggs Café        |2733       |\n",
      "+----------------------+-----------------------+-----------+\n",
      "only showing top 10 rows\n",
      "\n"
     ]
    }
   ],
   "source": [
    "df.groupBy(\"business_id\", \"name\") \\\n",
    "    .agg(count(\"review_id\").alias(\"num_reviews\")) \\\n",
    "    .orderBy(desc(\"num_reviews\")) \\\n",
    "    .show(10, truncate=False)"
   ]
  },
  {
   "cell_type": "markdown",
   "id": "2ecf56fa",
   "metadata": {},
   "source": [
    "### 3. What are the most common business categories?"
   ]
  },
  {
   "cell_type": "code",
   "execution_count": 4,
   "id": "0c9c5e54",
   "metadata": {},
   "outputs": [
    {
     "name": "stdout",
     "output_type": "stream",
     "text": [
      "+--------------------+------+\n",
      "|            category| count|\n",
      "+--------------------+------+\n",
      "|         Restaurants|519950|\n",
      "|                Food|182647|\n",
      "|                Bars|181890|\n",
      "|           Nightlife|175665|\n",
      "|         Restaurants|167339|\n",
      "|      American (New)|129942|\n",
      "|  Breakfast & Brunch|102505|\n",
      "| American (Tradit...| 96529|\n",
      "|          Sandwiches| 86698|\n",
      "|             Italian| 61080|\n",
      "+--------------------+------+\n",
      "only showing top 10 rows\n",
      "\n"
     ]
    }
   ],
   "source": [
    "df.withColumn(\"category\", explode(split(\"categories\", \",\"))) \\\n",
    "    .groupBy(\"category\") \\\n",
    "    .count() \\\n",
    "    .orderBy(desc(\"count\")) \\\n",
    "    .show(10)"
   ]
  },
  {
   "cell_type": "markdown",
   "id": "c597dca2",
   "metadata": {},
   "source": [
    "### 4. What is the average rating per category?"
   ]
  },
  {
   "cell_type": "code",
   "execution_count": 5,
   "id": "145fb03f",
   "metadata": {},
   "outputs": [
    {
     "name": "stdout",
     "output_type": "stream",
     "text": [
      "+--------------------+-----------------+\n",
      "|            category|       avg_rating|\n",
      "+--------------------+-----------------+\n",
      "| Business Consulting|              5.0|\n",
      "| Colleges & Unive...|              5.0|\n",
      "| Party Equipment ...|              5.0|\n",
      "|  Real Estate Agents|              5.0|\n",
      "|         Real Estate|              5.0|\n",
      "| Property Management|              5.0|\n",
      "|         Hobby Shops|            4.875|\n",
      "|       Arts & Crafts|4.829457364341085|\n",
      "|     Airport Lounges|              4.8|\n",
      "|            Kombucha|4.761904761904762|\n",
      "+--------------------+-----------------+\n",
      "only showing top 10 rows\n",
      "\n"
     ]
    }
   ],
   "source": [
    "df.withColumn(\"category\", explode(split(\"categories\", \",\"))) \\\n",
    "    .groupBy(\"category\") \\\n",
    "    .agg(avg(\"review_stars\").alias(\"avg_rating\")) \\\n",
    "    .orderBy(desc(\"avg_rating\")) \\\n",
    "    .show(10)"
   ]
  },
  {
   "cell_type": "markdown",
   "id": "215b905a",
   "metadata": {},
   "source": [
    "### 5. Who are the most active reviewers?"
   ]
  },
  {
   "cell_type": "code",
   "execution_count": 6,
   "id": "46d2150b",
   "metadata": {},
   "outputs": [
    {
     "name": "stdout",
     "output_type": "stream",
     "text": [
      "+----------------------+-------+------------+\n",
      "|user_id               |name   |review_count|\n",
      "+----------------------+-------+------------+\n",
      "|Hi10sGSZNxQH3NLyWSZ1oA|Fox    |17473       |\n",
      "|hWDybu_KvYLSdEFzGrniTw|Bruce  |16567       |\n",
      "|P5bUL3Engv-2z6kKohB6qQ|Kim    |9941        |\n",
      "|nmdkHL2JKFx55T3nq5VziA|Nijole |8363        |\n",
      "|bQCHF5rn5lMI9c5kEwCaNA|Vincent|8354        |\n",
      "|8RcEwGrFIgkt9WQ35E6SnQ|George |7738        |\n",
      "|HFECrzYDpgbS5EmTBtj2zQ|Eric   |5887        |\n",
      "|m07sy7eLtOjVdZ8oN9JKag|Ed     |5800        |\n",
      "|kS1MQHYwIfD0462PE61IBw|Rob    |5511        |\n",
      "|IlGYj_XAMG3v75rfmtBs_Q|Dominik|5434        |\n",
      "+----------------------+-------+------------+\n",
      "only showing top 10 rows\n",
      "\n"
     ]
    }
   ],
   "source": [
    "user.select(\"user_id\", \"name\", \"review_count\") \\\n",
    "    .orderBy(desc(\"review_count\")) \\\n",
    "    .show(10, truncate=False)"
   ]
  },
  {
   "cell_type": "markdown",
   "id": "b25bd3f8",
   "metadata": {},
   "source": [
    "### 6. What is the distribution of review ratings?"
   ]
  },
  {
   "cell_type": "code",
   "execution_count": 7,
   "id": "315e607d",
   "metadata": {},
   "outputs": [
    {
     "name": "stdout",
     "output_type": "stream",
     "text": [
      "+------------+------+\n",
      "|review_stars| count|\n",
      "+------------+------+\n",
      "|         1.0| 66626|\n",
      "|         2.0| 57480|\n",
      "|         3.0| 91706|\n",
      "|         4.0|194373|\n",
      "|         5.0|277122|\n",
      "+------------+------+\n",
      "\n"
     ]
    }
   ],
   "source": [
    "df.groupBy(\"review_stars\").count().orderBy(\"review_stars\").show()"
   ]
  },
  {
   "cell_type": "markdown",
   "id": "bdbc25a3",
   "metadata": {},
   "source": [
    "### 7. Correlation between review ratings and votes?"
   ]
  },
  {
   "cell_type": "code",
   "execution_count": 8,
   "id": "9a02cdca",
   "metadata": {},
   "outputs": [
    {
     "name": "stdout",
     "output_type": "stream",
     "text": [
      "+-------------------+-------------------+--------------------+\n",
      "|          cool_corr|         funny_corr|         useful_corr|\n",
      "+-------------------+-------------------+--------------------+\n",
      "|0.07108198527851739|-0.0590778043540176|-0.03484123109418975|\n",
      "+-------------------+-------------------+--------------------+\n",
      "\n"
     ]
    }
   ],
   "source": [
    "from pyspark.sql.functions import corr\n",
    "\n",
    "df.select(corr(\"review_stars\", \"cool\").alias(\"cool_corr\"),\n",
    "          corr(\"review_stars\", \"funny\").alias(\"funny_corr\"),\n",
    "          corr(\"review_stars\", \"useful\").alias(\"useful_corr\")).show()"
   ]
  },
  {
   "cell_type": "markdown",
   "id": "053c020a",
   "metadata": {},
   "source": [
    "### 8. Review activity trend over the years?"
   ]
  },
  {
   "cell_type": "code",
   "execution_count": 9,
   "id": "8310620e",
   "metadata": {},
   "outputs": [
    {
     "name": "stdout",
     "output_type": "stream",
     "text": [
      "+----+-----+\n",
      "|year|count|\n",
      "+----+-----+\n",
      "|2005|  101|\n",
      "|2006|  773|\n",
      "|2007| 4115|\n",
      "|2008|10912|\n",
      "|2009|18844|\n",
      "|2010|29391|\n",
      "|2011|39371|\n",
      "|2012|44252|\n",
      "|2013|51597|\n",
      "|2014|60250|\n",
      "|2015|68208|\n",
      "|2016|68748|\n",
      "|2017|71947|\n",
      "|2018|73190|\n",
      "|2019|72182|\n",
      "|2020|34860|\n",
      "|2021|36717|\n",
      "|2022| 1849|\n",
      "+----+-----+\n",
      "\n"
     ]
    }
   ],
   "source": [
    "from pyspark.sql.functions import to_date, year\n",
    "\n",
    "df.withColumn(\"date_clean\", to_date(\"date\")) \\\n",
    "  .withColumn(\"year\", year(\"date_clean\")) \\\n",
    "  .groupBy(\"year\") \\\n",
    "  .count() \\\n",
    "  .orderBy(\"year\") \\\n",
    "  .show()"
   ]
  },
  {
   "cell_type": "markdown",
   "id": "0c74147a",
   "metadata": {},
   "source": [
    "### 9. What is the average number of fans per user?"
   ]
  },
  {
   "cell_type": "code",
   "execution_count": 10,
   "id": "663dc6b8",
   "metadata": {},
   "outputs": [
    {
     "name": "stdout",
     "output_type": "stream",
     "text": [
      "+------------------+\n",
      "|          avg_fans|\n",
      "+------------------+\n",
      "|3.5979944348191317|\n",
      "+------------------+\n",
      "\n"
     ]
    }
   ],
   "source": [
    "user.selectExpr('avg(fans) as avg_fans').show()"
   ]
  },
  {
   "cell_type": "markdown",
   "id": "0120b8ba",
   "metadata": {},
   "source": [
    "### 10. Users with most total compliments?"
   ]
  },
  {
   "cell_type": "code",
   "execution_count": 11,
   "id": "32ad510c",
   "metadata": {},
   "outputs": [
    {
     "name": "stdout",
     "output_type": "stream",
     "text": [
      "+----------------------+--------+-----------------+\n",
      "|user_id               |name    |total_compliments|\n",
      "+----------------------+--------+-----------------+\n",
      "|JjXuiru1_ONzDkYVrHN0aw|Richard |324328           |\n",
      "|--2vR0DIsmQ6WfcSzKWigw|Harald  |133351           |\n",
      "|h4oOQdnfjpEHbygEJDsFbg|John    |132032           |\n",
      "|JRAy4P4op3PCISZaMRA9_w|Carissa |88363            |\n",
      "|w0Gp4qYFLhB6PbKrPhn6Tw|Pamela  |87324            |\n",
      "|HH7iiWvBqV-20lA7JlSRWQ|Lyla    |87271            |\n",
      "|UXbCcmkYGl3DH_Py5UOtbQ|Toni    |82084            |\n",
      "|Kf5PVQUdDvQYf-MXoeWqZA|Marianne|80410            |\n",
      "|AbMjnKOwg736fcIu8apuyQ|Michael |73201            |\n",
      "|0juzbrgcLHqobdK-OZAyiw|Daniel  |63539            |\n",
      "+----------------------+--------+-----------------+\n",
      "only showing top 10 rows\n",
      "\n"
     ]
    }
   ],
   "source": [
    "from pyspark.sql.functions import col\n",
    "\n",
    "compliment_cols = [col(c) for c in user.columns if c.startswith(\"compliment_\")]\n",
    "\n",
    "user.withColumn(\"total_compliments\", sum(compliment_cols)) \\\n",
    "     .select(\"user_id\", \"name\", \"total_compliments\") \\\n",
    "     .orderBy(desc(\"total_compliments\")) \\\n",
    "     .show(10, truncate=False)"
   ]
  }
 ],
 "metadata": {
  "kernelspec": {
   "display_name": "Python 3 (ipykernel)",
   "language": "python",
   "name": "python3"
  },
  "language_info": {
   "codemirror_mode": {
    "name": "ipython",
    "version": 3
   },
   "file_extension": ".py",
   "mimetype": "text/x-python",
   "name": "python",
   "nbconvert_exporter": "python",
   "pygments_lexer": "ipython3",
   "version": "3.12.4"
  }
 },
 "nbformat": 4,
 "nbformat_minor": 5
}

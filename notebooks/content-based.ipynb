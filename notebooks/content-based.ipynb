{
 "cells": [
  {
   "cell_type": "code",
   "execution_count": 1,
   "id": "55aa1154-adea-4101-8615-b62faa908944",
   "metadata": {},
   "outputs": [],
   "source": [
    "from pyspark.sql import SparkSession\n",
    "from pyspark.sql.functions import col, collect_list, concat_ws, lower\n",
    "from pyspark.ml.feature import Tokenizer, StopWordsRemover, HashingTF, IDF\n",
    "from pyspark.ml.linalg import DenseVector\n",
    "from pyspark.ml import Pipeline\n",
    "import numpy as np\n",
    "import utils.config as config\n",
    "\n",
    "\n",
    "# Step 1: Create Spark session\n",
    "spark = SparkSession.builder \\\n",
    "    .appName(\"BusinessSimilarityModel\") \\\n",
    "    .getOrCreate()"
   ]
  },
  {
   "cell_type": "code",
   "execution_count": 2,
   "id": "fc722077-93bf-4e08-a2fc-c8d22ee6e1be",
   "metadata": {},
   "outputs": [
    {
     "data": {
      "text/plain": [
       "687307"
      ]
     },
     "execution_count": 2,
     "metadata": {},
     "output_type": "execute_result"
    }
   ],
   "source": [
    "# Step 2: Load review data\n",
    "# Assuming review_df is loaded with columns including 'name' and 'text'\n",
    "review_spark_df = spark.read.json(config.PHILADELPHIA)\n",
    "review_spark_df.count()"
   ]
  },
  {
   "cell_type": "code",
   "execution_count": 3,
   "id": "e1757cb4-c34e-4032-80c5-220924f9264e",
   "metadata": {},
   "outputs": [],
   "source": [
    "# Step 3: Aggregate all review text per business\n",
    "business_reviews = review_spark_df.groupBy(\"name\") \\\n",
    "    .agg(concat_ws(\" \", collect_list(\"text\")).alias(\"all_reviews\"))"
   ]
  },
  {
   "cell_type": "code",
   "execution_count": 4,
   "id": "b0ae55a9-0158-48f7-bf30-2eca9bf1609e",
   "metadata": {},
   "outputs": [
    {
     "data": {
      "text/plain": [
       "5074"
      ]
     },
     "execution_count": 4,
     "metadata": {},
     "output_type": "execute_result"
    }
   ],
   "source": [
    "business_reviews.count()"
   ]
  },
  {
   "cell_type": "code",
   "execution_count": 5,
   "id": "1e757924-5133-456a-8e00-d72b64b8da98",
   "metadata": {},
   "outputs": [],
   "source": [
    "# Step 4: Text preprocessing and TF-IDF\n",
    "tokenizer = Tokenizer(inputCol=\"all_reviews\", outputCol=\"words\")\n",
    "remover = StopWordsRemover(inputCol=\"words\", outputCol=\"filtered\")\n",
    "hashingTF = HashingTF(inputCol=\"filtered\", outputCol=\"rawFeatures\", numFeatures=1000)\n",
    "idf = IDF(inputCol=\"rawFeatures\", outputCol=\"features\")\n",
    "\n",
    "pipeline = Pipeline(stages=[tokenizer, remover, hashingTF, idf])\n",
    "model = pipeline.fit(business_reviews)\n",
    "tfidf_result = model.transform(business_reviews)"
   ]
  },
  {
   "cell_type": "code",
   "execution_count": 6,
   "id": "67628766-d6e5-4500-ae44-37ba5a34ce50",
   "metadata": {},
   "outputs": [],
   "source": [
    "# Step 5: Collect features and names to compute cosine similarity\n",
    "vector_data = tfidf_result.select(\"name\", \"features\").collect()\n",
    "name_vec_map = {row['name']: row['features'] for row in vector_data}"
   ]
  },
  {
   "cell_type": "code",
   "execution_count": 7,
   "id": "94456e5c-4ece-426f-a6da-53fd9ee06c8b",
   "metadata": {},
   "outputs": [],
   "source": [
    "# Step 6: Define cosine similarity function\n",
    "def cosine_sim(v1, v2):\n",
    "    dot = float(v1.dot(v2))\n",
    "    norm1 = float(v1.norm(2))\n",
    "    norm2 = float(v2.norm(2))\n",
    "    return dot / (norm1 * norm2) if norm1 != 0 and norm2 != 0 else 0.0"
   ]
  },
  {
   "cell_type": "code",
   "execution_count": 8,
   "id": "9ba7c20c-c616-4b56-8a34-e07ab757f4e9",
   "metadata": {},
   "outputs": [],
   "source": [
    "# Step 7: Find similar businesses\n",
    "def find_similar_businesses(input_name, top_n=3):\n",
    "    input_vec = name_vec_map.get(input_name)\n",
    "    if input_vec is None:\n",
    "        return f\"Business '{input_name}' not found.\"\n",
    "\n",
    "    similarities = []\n",
    "    for name, vec in name_vec_map.items():\n",
    "        if name != input_name:\n",
    "            sim = cosine_sim(input_vec, vec)\n",
    "            similarities.append((name, sim))\n",
    "    \n",
    "    sorted_sims = sorted(similarities, key=lambda x: x[1], reverse=True)\n",
    "    return sorted_sims[:top_n]"
   ]
  },
  {
   "cell_type": "code",
   "execution_count": 9,
   "id": "1fb452ac-67d3-4504-befd-7cc670b86f85",
   "metadata": {},
   "outputs": [
    {
     "name": "stdout",
     "output_type": "stream",
     "text": [
      "[(\"Farmer's Keep\", 0.8203797184807501), ('Herban Quality Eats', 0.810678538053316), ('Fuel', 0.7689759620913105)]\n"
     ]
    }
   ],
   "source": [
    "# Example usage\n",
    "print(find_similar_businesses(\"Real Food Eatery\"))"
   ]
  },
  {
   "cell_type": "code",
   "execution_count": null,
   "id": "66209eb8-4dd9-4fa7-bf3e-2dad39a4864e",
   "metadata": {},
   "outputs": [],
   "source": []
  }
 ],
 "metadata": {
  "kernelspec": {
   "display_name": "Python 3 (ipykernel)",
   "language": "python",
   "name": "python3"
  },
  "language_info": {
   "codemirror_mode": {
    "name": "ipython",
    "version": 3
   },
   "file_extension": ".py",
   "mimetype": "text/x-python",
   "name": "python",
   "nbconvert_exporter": "python",
   "pygments_lexer": "ipython3",
   "version": "3.12.4"
  }
 },
 "nbformat": 4,
 "nbformat_minor": 5
}
